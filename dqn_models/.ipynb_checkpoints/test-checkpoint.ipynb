{
 "cells": [
  {
   "cell_type": "code",
   "execution_count": 8,
   "metadata": {
    "collapsed": true
   },
   "outputs": [],
   "source": [
    "import numpy as np\n",
    "import matplotlib.pyplot as plt\n",
    "import pickle\n",
    "\n",
    "import torch\n",
    "import torch.optim as optim\n",
    "import torch.nn as nn\n",
    "import torch.nn.functional as F"
   ]
  },
  {
   "cell_type": "code",
   "execution_count": 9,
   "metadata": {
    "collapsed": true
   },
   "outputs": [],
   "source": [
    "N_ep = 100 # Number of episodes\n",
    "prop_test = 0.2 # Proportion of test set\n",
    "shuffle = True # Shuffle data every episode\n",
    "episode_rec = int(N_ep/10)"
   ]
  },
  {
   "cell_type": "code",
   "execution_count": 10,
   "metadata": {},
   "outputs": [],
   "source": [
    "# Load data\n",
    "#f = open('replay_memory_0','rb')\n",
    "f = open('replay_memory_log_t','rb')\n",
    "dataset = pickle.load(f)\n",
    "\n",
    "# Data size\n",
    "num_data = len(dataset)\n",
    "# Features\n",
    "X = torch.cat([x[0] for x in dataset]).float()\n",
    "# Labels\n",
    "y = torch.from_numpy(np.array([x[1] for x in dataset])).float()\n",
    "\n",
    "input_dim = X.size(1)\n",
    "\n",
    "# Initial shuffle\n",
    "permutation = torch.randperm(num_data)\n",
    "X = X[permutation]\n",
    "y = y[permutation]\n",
    "\n",
    "num_train = int(num_data*(1-prop_test))\n",
    "\n",
    "X_train = X[:num_train]\n",
    "y_train = y[:num_train]\n",
    "X_test = X[num_train:]\n",
    "y_test = y[num_train:]\n",
    "\n",
    "# Normalize\n",
    "y_train = y_train/abs(y_train).max()\n",
    "y_test = y_test/abs(y_test).max()"
   ]
  },
  {
   "cell_type": "code",
   "execution_count": 11,
   "metadata": {
    "collapsed": true
   },
   "outputs": [],
   "source": [
    "# Network\n",
    "class net(nn.Module):\n",
    "    def __init__(self, input_dim=3, output_dim=1, hidden_size=5, hidden_dropout_prob=0):\n",
    "        super(net, self).__init__()\n",
    "        self.fc1 = nn.Linear(input_dim, hidden_size) # input layer -> hidden layer\n",
    "        self.fc2 = nn.Linear(hidden_size, output_dim) # hidden layer -> output layer\n",
    "        \n",
    "    def forward(self, x):\n",
    "        x = F.sigmoid(self.fc1(x))\n",
    "        x = self.fc2(x)\n",
    "        return x\n",
    "    \n",
    "model = net(input_dim=input_dim)"
   ]
  },
  {
   "cell_type": "code",
   "execution_count": 12,
   "metadata": {},
   "outputs": [
    {
     "name": "stdout",
     "output_type": "stream",
     "text": [
      "tensor([ 0.5633])\n",
      "tensor(1.00000e-02 *\n",
      "       -2.9877)\n",
      "tensor([ 0.5932])\n"
     ]
    }
   ],
   "source": [
    "sample_num=101\n",
    "print(model(X[sample_num]))\n",
    "print(y[sample_num])\n",
    "print(model(X[sample_num])-y[sample_num])"
   ]
  },
  {
   "cell_type": "code",
   "execution_count": 13,
   "metadata": {},
   "outputs": [
    {
     "name": "stdout",
     "output_type": "stream",
     "text": [
      "10\n",
      "20\n",
      "30\n",
      "40\n",
      "50\n",
      "60\n",
      "70\n",
      "80\n",
      "90\n"
     ]
    }
   ],
   "source": [
    "\n",
    "optimizer = optim.SGD(model.parameters(),lr=0.001)\n",
    "\n",
    "training_loss = []\n",
    "test_loss = []\n",
    "# Training\n",
    "for i_ep in range(N_ep):\n",
    "    \n",
    "    if shuffle:\n",
    "        permutation = torch.randperm(num_train)\n",
    "        X_train = X_train[permutation]\n",
    "        y_train = y_train[permutation]\n",
    "        \n",
    "    for i_data in range(num_train):\n",
    "        features = X_train[i_data]\n",
    "        y_data = y_train[i_data]\n",
    "        #features = X\n",
    "        #y_data = y.view(-1,1)\n",
    "        \n",
    "        y_pred = model(features)\n",
    "        \n",
    "        #loss = F.smooth_l1_loss(y_pred,y_data)\n",
    "        loss = torch.mean((y_pred - y_data)**2)\n",
    "        \n",
    "        # Optimize the model\n",
    "        optimizer.zero_grad()\n",
    "        loss.backward()\n",
    "        optimizer.step()\n",
    "        \n",
    "    # Compute training & test losses and record\n",
    "    y_train_pred = model(X_train)\n",
    "    loss_train = torch.mean((y_train-y_train_pred)**2)\n",
    "    y_test_pred = model(X_test)\n",
    "    loss_test = torch.mean((y_test-y_test_pred)**2)\n",
    "    training_loss.append(loss_train)\n",
    "    test_loss.append(loss_test)\n",
    "        \n",
    "    if i_ep != 0 and (i_ep % episode_rec == 0):\n",
    "        print(i_ep)"
   ]
  },
  {
   "cell_type": "code",
   "execution_count": 14,
   "metadata": {},
   "outputs": [
    {
     "data": {
      "image/png": "[encoded data removed]",
      "text/plain": [
       "<matplotlib.figure.Figure at 0x7fba38b19a58>"
      ]
     },
     "metadata": {},
     "output_type": "display_data"
    }
   ],
   "source": [
    "plt.plot(training_loss, label='train')\n",
    "plt.plot(test_loss, label='test')\n",
    "plt.legend()\n",
    "#plt.savefig('train_loss_curve.png')\n",
    "plt.show()"
   ]
  },
  {
   "cell_type": "code",
   "execution_count": 15,
   "metadata": {
    "scrolled": true
   },
   "outputs": [
    {
     "data": {
      "image/png": "[encoded data removed]",
      "text/plain": [
       "<matplotlib.figure.Figure at 0x7fba3a62af28>"
      ]
     },
     "metadata": {},
     "output_type": "display_data"
    }
   ],
   "source": [
    "plt.plot(y)\n",
    "plt.show()"
   ]
  },
  {
   "cell_type": "code",
   "execution_count": 16,
   "metadata": {},
   "outputs": [
    {
     "data": {
      "image/png": "[encoded data removed]",
      "text/plain": [
       "<matplotlib.figure.Figure at 0x7fba38227fd0>"
      ]
     },
     "metadata": {},
     "output_type": "display_data"
    }
   ],
   "source": [
    "plt.plot(model(X).detach().numpy())\n",
    "plt.show()"
   ]
  },
  {
   "cell_type": "code",
   "execution_count": null,
   "metadata": {
    "collapsed": true
   },
   "outputs": [],
   "source": []
  },
  {
   "cell_type": "code",
   "execution_count": null,
   "metadata": {
    "collapsed": true
   },
   "outputs": [],
   "source": []
  }
 ],
 "metadata": {
  "anaconda-cloud": {},
  "kernelspec": {
   "display_name": "Python 3",
   "language": "python",
   "name": "python3"
  },
  "language_info": {
   "codemirror_mode": {
    "name": "ipython",
    "version": 3
   },
   "file_extension": ".py",
   "mimetype": "text/x-python",
   "name": "python",
   "nbconvert_exporter": "python",
   "pygments_lexer": "ipython3",
   "version": "3.6.1"
  }
 },
 "nbformat": 4,
 "nbformat_minor": 1
}

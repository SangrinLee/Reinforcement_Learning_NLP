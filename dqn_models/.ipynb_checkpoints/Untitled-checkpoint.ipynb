{
 "cells": [
  {
   "cell_type": "code",
   "execution_count": null,
   "metadata": {
    "collapsed": true
   },
   "outputs": [],
   "source": [
    "import numpy as np\n",
    "import matplotlib.pyplot as plt\n",
    "import pickle\n",
    "\n",
    "import torch\n",
    "import torch.optim as optim\n",
    "import torch.nn as nn\n",
    "import torch.nn.functional as F"
   ]
  },
  {
   "cell_type": "code",
   "execution_count": null,
   "metadata": {
    "collapsed": true
   },
   "outputs": [],
   "source": [
    "N_ep = 10 # Number of episodes"
   ]
  },
  {
   "cell_type": "code",
   "execution_count": null,
   "metadata": {
    "collapsed": true
   },
   "outputs": [],
   "source": [
    "# Load data\n",
    "f = open('replay_memory_0','rb')\n",
    "dataset = pickle.load(f)\n",
    "\n",
    "# Data size\n",
    "num_data = len(dataset)\n",
    "# Features\n",
    "X = torch.cat([x[0] for x in dataset])\n",
    "# Labels\n",
    "y = torch.from_numpy(np.array([x[1] for x in dataset]))"
   ]
  },
  {
   "cell_type": "code",
   "execution_count": null,
   "metadata": {
    "collapsed": true
   },
   "outputs": [],
   "source": [
    "# Network\n",
    "class net(nn.Module):\n",
    "    def __init__(self, input_dim=3, output_dim=1, hidden_size=2, hidden_dropout_prob=0):\n",
    "        super(DQN, self).__init__()\n",
    "        self.fc1 = nn.Linear(input_dim, hidden_size) # input layer -> hidden layer\n",
    "        self.fc2 = nn.Linear(hidden_size, output_dim) # hidden layer -> output layer\n",
    "        \n",
    "    def forward(self, x):\n",
    "        x = F.sigmoid(self.fc1(x))\n",
    "        x = self.fc2(x)\n",
    "        return x"
   ]
  },
  {
   "cell_type": "code",
   "execution_count": null,
   "metadata": {
    "collapsed": true
   },
   "outputs": [],
   "source": [
    "model = net()\n",
    "optimizer = optim.RMSprop(model.parameters())\n",
    "\n",
    "training_loss = []\n",
    "# Training\n",
    "for i_ep in range(N_ep):\n",
    "    for i_data in range(num_data):\n",
    "        features = X[i_data].view(-1,1)\n",
    "        y_data = y[i_data]\n",
    "        \n",
    "        y_pred = model(features)\n",
    "        \n",
    "        loss = F.smooth_l1_loss(y_pred,y_data)\n",
    "        training_loss.append(loss)\n",
    "        \n",
    "        # Optimize the model\n",
    "        optimizer.zero_grad()\n",
    "        loss.backward()\n",
    "        optimizer.step()"
   ]
  },
  {
   "cell_type": "code",
   "execution_count": null,
   "metadata": {
    "collapsed": true
   },
   "outputs": [],
   "source": [
    "plt.plot(training_loss)\n",
    "plt.show()"
   ]
  }
 ],
 "metadata": {
  "anaconda-cloud": {},
  "kernelspec": {
   "display_name": "Python [default]",
   "language": "python",
   "name": "python3"
  },
  "language_info": {
   "codemirror_mode": {
    "name": "ipython",
    "version": 3
   },
   "file_extension": ".py",
   "mimetype": "text/x-python",
   "name": "python",
   "nbconvert_exporter": "python",
   "pygments_lexer": "ipython3",
   "version": "3.5.2"
  }
 },
 "nbformat": 4,
 "nbformat_minor": 1
}

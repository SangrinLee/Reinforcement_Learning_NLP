{
 "cells": [
  {
   "cell_type": "code",
   "execution_count": 1,
   "metadata": {
    "collapsed": true
   },
   "outputs": [],
   "source": [
    "import numpy as np\n",
    "import matplotlib.pyplot as plt\n",
    "import pickle\n",
    "\n",
    "import torch\n",
    "import torch.optim as optim\n",
    "import torch.nn as nn\n",
    "import torch.nn.functional as F"
   ]
  },
  {
   "cell_type": "code",
   "execution_count": 2,
   "metadata": {
    "collapsed": true
   },
   "outputs": [],
   "source": [
    "N_ep = 200 # Number of episodes"
   ]
  },
  {
   "cell_type": "code",
   "execution_count": 21,
   "metadata": {},
   "outputs": [
    {
     "data": {
      "text/plain": [
       "tensor([ 4.1135e-02,  1.1481e-01,  3.2495e-01,  ...,  3.4257e-02,\n",
       "        -1.8565e-02,  2.6096e-02])"
      ]
     },
     "execution_count": 21,
     "metadata": {},
     "output_type": "execute_result"
    }
   ],
   "source": [
    "# Load data\n",
    "f = open('replay_memory_0','rb')\n",
    "dataset = pickle.load(f)\n",
    "\n",
    "# Data size\n",
    "num_data = len(dataset)\n",
    "# Features\n",
    "X = torch.cat([x[0] for x in dataset]).float()\n",
    "# Labels\n",
    "y = torch.from_numpy(np.array([x[1] for x in dataset])).float()\n",
    "\n",
    "#X.size()\n",
    "y"
   ]
  },
  {
   "cell_type": "code",
   "execution_count": 4,
   "metadata": {
    "collapsed": true
   },
   "outputs": [],
   "source": [
    "# Network\n",
    "class net(nn.Module):\n",
    "    def __init__(self, input_dim=3, output_dim=1, hidden_size=100, hidden_dropout_prob=0):\n",
    "        super(net, self).__init__()\n",
    "        self.fc1 = nn.Linear(input_dim, hidden_size) # input layer -> hidden layer\n",
    "        self.fc2 = nn.Linear(hidden_size, output_dim) # hidden layer -> output layer\n",
    "        \n",
    "    def forward(self, x):\n",
    "        x = F.leaky_relu(self.fc1(x))\n",
    "        x = self.fc2(x)\n",
    "        return x\n",
    "    \n",
    "model = net()"
   ]
  },
  {
   "cell_type": "code",
   "execution_count": 5,
   "metadata": {
    "collapsed": true
   },
   "outputs": [],
   "source": [
    "#print(model.fc1.weight)\n",
    "#print(model.fc2.weight)\n",
    "sample_num=101"
   ]
  },
  {
   "cell_type": "code",
   "execution_count": 6,
   "metadata": {},
   "outputs": [
    {
     "name": "stdout",
     "output_type": "stream",
     "text": [
      "tensor(1.00000e-03 *\n",
      "       [-8.9857])\n",
      "tensor(1.00000e-02 *\n",
      "       -1.1957)\n",
      "tensor(1.00000e-03 *\n",
      "       [ 2.9715])\n"
     ]
    }
   ],
   "source": [
    "print(model(X[sample_num]))\n",
    "print(y[sample_num])\n",
    "print(model(X[sample_num])-y[sample_num])"
   ]
  },
  {
   "cell_type": "code",
   "execution_count": 7,
   "metadata": {
    "collapsed": true
   },
   "outputs": [],
   "source": [
    "\n",
    "optimizer = optim.Adam(model.parameters())\n",
    "\n",
    "training_loss = []\n",
    "# Training\n",
    "for i_ep in range(N_ep):\n",
    "    for i_data in range(num_data):\n",
    "        features = X[i_data]\n",
    "        y_data = y[i_data]\n",
    "        #features = X\n",
    "        #y_data = y.view(-1,1)\n",
    "        \n",
    "        y_pred = model(features)\n",
    "        \n",
    "        #loss = F.smooth_l1_loss(y_pred,y_data)\n",
    "        loss = torch.mean((y_pred - y_data)**2)\n",
    "        training_loss.append(loss)\n",
    "        \n",
    "        # Optimize the model\n",
    "        optimizer.zero_grad()\n",
    "        loss.backward()\n",
    "        optimizer.step()"
   ]
  },
  {
   "cell_type": "code",
   "execution_count": 8,
   "metadata": {},
   "outputs": [
    {
     "data": {
      "image/png": "[encoded data removed]",
      "text/plain": [
       "<matplotlib.figure.Figure at 0x19991d73fd0>"
      ]
     },
     "metadata": {},
     "output_type": "display_data"
    }
   ],
   "source": [
    "plt.plot(training_loss)\n",
    "plt.savefig('train_loss_curve.png')\n",
    "plt.show()"
   ]
  },
  {
   "cell_type": "code",
   "execution_count": 9,
   "metadata": {},
   "outputs": [
    {
     "name": "stdout",
     "output_type": "stream",
     "text": [
      "Parameter containing:\n",
      "tensor([[ 0.0328,  0.0886,  0.0228],\n",
      "        [-0.0410,  0.0574, -0.0042],\n",
      "        [ 0.0112, -0.0449,  0.0918],\n",
      "        [ 0.0922, -0.1676,  0.1413],\n",
      "        [-0.6808,  0.3571, -0.3721],\n",
      "        [ 0.0214,  0.0909, -0.1334],\n",
      "        [-0.0141,  0.0886, -0.1021],\n",
      "        [ 0.0209, -0.0211,  0.0548],\n",
      "        [ 0.3883, -0.3948, -0.1853],\n",
      "        [ 0.0978, -0.0598,  0.1947],\n",
      "        [ 0.0494, -0.0583,  0.0044],\n",
      "        [ 0.0798, -0.1024,  0.1769],\n",
      "        [ 0.3951, -0.1238, -0.2104],\n",
      "        [-0.0148,  0.0338, -0.0662],\n",
      "        [ 0.0576, -0.0495,  0.1189],\n",
      "        [-0.0023,  0.2045,  0.4329],\n",
      "        [-1.0741, -0.6556, -0.9672],\n",
      "        [ 0.0429, -0.0715,  0.0641],\n",
      "        [-0.8653, -0.4384, -0.8813],\n",
      "        [ 0.0416, -0.0488, -0.0186],\n",
      "        [-0.4120,  0.3216, -0.2611],\n",
      "        [ 0.0497, -0.0401,  0.3258],\n",
      "        [ 0.0587, -0.0887,  0.1932],\n",
      "        [-1.0279, -0.0713, -0.3166],\n",
      "        [-0.6728, -0.1608,  0.0801],\n",
      "        [ 1.1018, -0.2401, -0.2395],\n",
      "        [-0.0650,  0.0644, -0.0812],\n",
      "        [-0.2223,  0.4513, -0.3677],\n",
      "        [ 0.1143, -0.1530,  0.0936],\n",
      "        [ 0.1209, -0.1231,  0.0238],\n",
      "        [-0.1614,  0.2644, -0.2274],\n",
      "        [ 0.0388, -0.0618,  0.0099],\n",
      "        [ 0.6892,  0.2391,  0.1568],\n",
      "        [ 0.3260, -0.2720, -0.0583],\n",
      "        [-0.5399, -0.5585,  0.3511],\n",
      "        [-0.0276,  0.0462, -0.0474],\n",
      "        [-0.9350, -0.4871, -0.7478],\n",
      "        [ 0.2011, -0.1849,  0.3517],\n",
      "        [ 0.0346, -0.0189,  0.1382],\n",
      "        [-0.3187, -0.4644,  0.6181],\n",
      "        [ 0.0041,  0.1263, -0.0306],\n",
      "        [-0.0156,  0.0262,  0.0188],\n",
      "        [ 0.1208, -0.1748,  0.1988],\n",
      "        [ 0.1911, -0.1438,  0.3259],\n",
      "        [-0.4951,  0.4790, -0.3257],\n",
      "        [ 0.0844, -0.0667,  0.0072],\n",
      "        [-0.8496, -0.6583,  0.1754],\n",
      "        [-0.9798,  0.4553, -0.3453],\n",
      "        [ 0.1058, -0.6452,  0.2090],\n",
      "        [ 0.0095,  0.0793, -0.0679],\n",
      "        [-0.3518, -0.5057,  0.7053],\n",
      "        [-0.2495,  0.6241, -0.0837],\n",
      "        [-0.0094,  0.0506, -0.0881],\n",
      "        [-0.0165, -0.0233,  0.0086],\n",
      "        [-0.0737,  0.1271, -0.0950],\n",
      "        [-0.0395, -0.2877,  0.1980],\n",
      "        [ 0.2985, -0.2936,  0.1886],\n",
      "        [-0.0243,  0.0179, -0.0141],\n",
      "        [ 0.0512, -0.7433,  0.1743],\n",
      "        [ 0.2181, -0.4892, -0.1194],\n",
      "        [-0.0571,  0.4111, -0.2556],\n",
      "        [-0.0386,  0.1460, -0.1017],\n",
      "        [-0.0697,  0.3471, -0.2822],\n",
      "        [ 0.0525, -0.0839,  0.1135],\n",
      "        [ 0.4281, -0.4620, -0.0106],\n",
      "        [-0.0940,  0.4809, -0.2646],\n",
      "        [ 0.0218, -0.0257, -0.0091],\n",
      "        [ 0.0487,  0.0029,  0.2274],\n",
      "        [-0.0037,  0.1400, -0.1261],\n",
      "        [ 0.7632,  0.2760, -0.0816],\n",
      "        [ 0.0354,  0.0727,  0.0013],\n",
      "        [-0.1585,  0.1724, -0.1356],\n",
      "        [ 0.2691, -0.3098,  0.1490],\n",
      "        [-0.6594, -0.3928,  0.4256],\n",
      "        [-0.0171,  0.0956, -0.1098],\n",
      "        [ 0.0405,  0.0790, -0.0960],\n",
      "        [-0.8181,  0.4506, -0.2094],\n",
      "        [-1.2792, -0.8416, -1.0189],\n",
      "        [-0.5608, -0.7710, -0.9851],\n",
      "        [-0.0106, -0.0167,  0.0091],\n",
      "        [-0.5688, -0.2916,  0.6027],\n",
      "        [-2.1421, -1.1868, -0.1098],\n",
      "        [-0.0134,  0.1152, -0.1054],\n",
      "        [ 0.2372, -0.2609,  0.2020],\n",
      "        [ 0.1990,  0.6537,  0.3296],\n",
      "        [ 0.2405, -0.0449, -0.1924],\n",
      "        [ 0.4813, -0.5191, -0.1658],\n",
      "        [ 0.0627, -0.0793,  0.0264],\n",
      "        [ 0.0440, -0.0235,  0.1884],\n",
      "        [-0.0338, -0.0051, -0.0080],\n",
      "        [ 0.2126, -0.1979,  0.1000],\n",
      "        [-0.6078, -0.2165, -0.7192],\n",
      "        [-0.0205, -0.0082,  0.0056],\n",
      "        [-1.2079, -0.0117,  0.1428],\n",
      "        [-1.6449, -1.1141, -0.0113],\n",
      "        [ 0.0191,  0.0280, -0.0717],\n",
      "        [-0.3019,  0.2147, -0.1368],\n",
      "        [-0.8365, -0.6096,  0.4459],\n",
      "        [ 0.2127, -0.4947, -0.0068],\n",
      "        [-0.0462,  0.1307,  0.0383]])\n",
      "Parameter containing:\n",
      "tensor([[-0.0410,  0.0042,  0.0003,  0.0096, -0.0614,  0.0134, -0.0132,\n",
      "          0.0071, -0.1564,  0.0089,  0.0015,  0.0058, -0.0133, -0.0083,\n",
      "          0.0048, -0.0008, -0.6704, -0.0045, -0.5100, -0.0221,  0.0039,\n",
      "         -0.0042,  0.0333, -0.1965, -0.0049, -0.5693, -0.0058,  0.0021,\n",
      "         -0.0058, -0.0038, -0.0051,  0.0009,  0.1269, -0.0860, -0.0225,\n",
      "          0.0107, -0.5257,  0.0037, -0.0070, -0.0101,  0.0356,  0.0117,\n",
      "          0.0040, -0.0279, -0.0002, -0.0092, -0.0565, -0.1764,  0.0164,\n",
      "          0.0033, -0.1225,  0.0230, -0.0267,  0.0024,  0.0024,  0.0037,\n",
      "          0.0231,  0.0003, -0.1779, -0.0353,  0.0317, -0.0048, -0.0273,\n",
      "          0.0095, -0.0371, -0.0157,  0.0102,  0.0045, -0.0011,  0.1291,\n",
      "         -0.0131, -0.0016,  0.0117, -0.0085, -0.0211, -0.0070, -0.1401,\n",
      "         -0.7783, -0.5762, -0.0004, -0.0624,  1.1255,  0.0209,  0.0013,\n",
      "          0.9539, -0.0158, -0.0097, -0.0009,  0.0065, -0.0007,  0.0166,\n",
      "         -0.2822, -0.0006,  0.2811,  1.4302, -0.0035, -0.0038, -0.1560,\n",
      "         -0.0159, -0.0069]])\n"
     ]
    }
   ],
   "source": [
    "print(model.fc1.weight)\n",
    "print(model.fc2.weight)"
   ]
  },
  {
   "cell_type": "code",
   "execution_count": 10,
   "metadata": {
    "scrolled": true
   },
   "outputs": [
    {
     "data": {
      "image/png": "[encoded data removed]",
      "text/plain": [
       "<matplotlib.figure.Figure at 0x199e2507128>"
      ]
     },
     "metadata": {},
     "output_type": "display_data"
    }
   ],
   "source": [
    "plt.plot(y)\n",
    "plt.show()"
   ]
  },
  {
   "cell_type": "code",
   "execution_count": 11,
   "metadata": {},
   "outputs": [
    {
     "name": "stdout",
     "output_type": "stream",
     "text": [
      "tensor(1.00000e-02 *\n",
      "       [-2.4774])\n",
      "tensor(1.00000e-02 *\n",
      "       -1.1957)\n",
      "tensor(1.00000e-02 *\n",
      "       [-1.2817])\n"
     ]
    }
   ],
   "source": [
    "print(model(X[sample_num]))\n",
    "print(y[sample_num])\n",
    "print(model(X[sample_num])-y[sample_num])"
   ]
  },
  {
   "cell_type": "code",
   "execution_count": 12,
   "metadata": {},
   "outputs": [
    {
     "data": {
      "image/png": "[encoded data removed]",
      "text/plain": [
       "<matplotlib.figure.Figure at 0x199e25dd198>"
      ]
     },
     "metadata": {},
     "output_type": "display_data"
    }
   ],
   "source": [
    "plt.plot(model(X).detach().numpy())\n",
    "plt.show()"
   ]
  },
  {
   "cell_type": "code",
   "execution_count": 13,
   "metadata": {},
   "outputs": [
    {
     "data": {
      "text/plain": [
       "tensor([[ 1.1113e-01],\n",
       "        [ 1.5049e-01],\n",
       "        [ 1.2310e-01],\n",
       "        ...,\n",
       "        [ 5.7338e-03],\n",
       "        [-9.6909e-03],\n",
       "        [-2.2604e-03]])"
      ]
     },
     "execution_count": 13,
     "metadata": {},
     "output_type": "execute_result"
    }
   ],
   "source": [
    "model(X)"
   ]
  },
  {
   "cell_type": "code",
   "execution_count": null,
   "metadata": {
    "collapsed": true
   },
   "outputs": [],
   "source": []
  }
 ],
 "metadata": {
  "anaconda-cloud": {},
  "kernelspec": {
   "display_name": "Python 3",
   "language": "python",
   "name": "python3"
  },
  "language_info": {
   "codemirror_mode": {
    "name": "ipython",
    "version": 3
   },
   "file_extension": ".py",
   "mimetype": "text/x-python",
   "name": "python",
   "nbconvert_exporter": "python",
   "pygments_lexer": "ipython3",
   "version": "3.6.1"
  }
 },
 "nbformat": 4,
 "nbformat_minor": 1
}

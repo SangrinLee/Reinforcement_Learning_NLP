{
 "cells": [
  {
   "cell_type": "code",
   "execution_count": 39,
   "metadata": {
    "collapsed": true
   },
   "outputs": [],
   "source": [
    "import numpy as np\n",
    "import matplotlib.pyplot as plt\n",
    "import pickle\n",
    "\n",
    "import torch\n",
    "import torch.optim as optim\n",
    "import torch.nn as nn\n",
    "import torch.nn.functional as F"
   ]
  },
  {
   "cell_type": "code",
   "execution_count": 40,
   "metadata": {
    "collapsed": true
   },
   "outputs": [],
   "source": [
    "N_ep = 200 # Number of episodes"
   ]
  },
  {
   "cell_type": "code",
   "execution_count": 41,
   "metadata": {
    "collapsed": true
   },
   "outputs": [],
   "source": [
    "# Load data\n",
    "f = open('replay_memory_0','rb')\n",
    "dataset = pickle.load(f)\n",
    "\n",
    "# Data size\n",
    "num_data = len(dataset)\n",
    "# Features\n",
    "X = torch.cat([x[0] for x in dataset]).float()\n",
    "# Labels\n",
    "y = torch.from_numpy(np.array([x[1] for x in dataset])).float()"
   ]
  },
  {
   "cell_type": "code",
   "execution_count": 42,
   "metadata": {
    "collapsed": true
   },
   "outputs": [],
   "source": [
    "# Network\n",
    "class net(nn.Module):\n",
    "    def __init__(self, input_dim=3, output_dim=1, hidden_size=100, hidden_dropout_prob=0):\n",
    "        super(net, self).__init__()\n",
    "        self.fc1 = nn.Linear(input_dim, hidden_size) # input layer -> hidden layer\n",
    "        self.fc2 = nn.Linear(hidden_size, output_dim) # hidden layer -> output layer\n",
    "        \n",
    "    def forward(self, x):\n",
    "        x = F.leaky_relu(self.fc1(x))\n",
    "        x = self.fc2(x)\n",
    "        return x\n",
    "    \n",
    "model = net()"
   ]
  },
  {
   "cell_type": "code",
   "execution_count": 50,
   "metadata": {
    "collapsed": true
   },
   "outputs": [],
   "source": [
    "#print(model.fc1.weight)\n",
    "#print(model.fc2.weight)\n",
    "sample_num=101"
   ]
  },
  {
   "cell_type": "code",
   "execution_count": 44,
   "metadata": {},
   "outputs": [
    {
     "name": "stdout",
     "output_type": "stream",
     "text": [
      "tensor(1.00000e-02 *\n",
      "       [ 3.1758])\n",
      "tensor(1.00000e-02 *\n",
      "       -2.2116)\n",
      "tensor(1.00000e-02 *\n",
      "       [ 5.3874])\n"
     ]
    }
   ],
   "source": [
    "print(model(X[sample_num]))\n",
    "print(y[sample_num])\n",
    "print(model(X[sample_num])-y[sample_num])"
   ]
  },
  {
   "cell_type": "code",
   "execution_count": 45,
   "metadata": {
    "collapsed": true
   },
   "outputs": [],
   "source": [
    "\n",
    "optimizer = optim.Adam(model.parameters())\n",
    "\n",
    "training_loss = []\n",
    "# Training\n",
    "for i_ep in range(N_ep):\n",
    "    for i_data in range(num_data):\n",
    "        features = X[i_data]\n",
    "        y_data = y[i_data]\n",
    "        #features = X\n",
    "        #y_data = y.view(-1,1)\n",
    "        \n",
    "        y_pred = model(features)\n",
    "        \n",
    "        #loss = F.smooth_l1_loss(y_pred,y_data)\n",
    "        loss = torch.mean((y_pred - y_data)**2)\n",
    "        training_loss.append(loss)\n",
    "        \n",
    "        # Optimize the model\n",
    "        optimizer.zero_grad()\n",
    "        loss.backward()\n",
    "        optimizer.step()"
   ]
  },
  {
   "cell_type": "code",
   "execution_count": 46,
   "metadata": {},
   "outputs": [
    {
     "data": {
      "image/png": "[encoded data removed]",
      "text/plain": [
       "<matplotlib.figure.Figure at 0x7fed3a7e87b8>"
      ]
     },
     "metadata": {},
     "output_type": "display_data"
    }
   ],
   "source": [
    "plt.plot(training_loss)\n",
    "plt.savefig('train_loss_curve.png')\n",
    "plt.show()"
   ]
  },
  {
   "cell_type": "code",
   "execution_count": 47,
   "metadata": {},
   "outputs": [
    {
     "name": "stdout",
     "output_type": "stream",
     "text": [
      "Parameter containing:\n",
      "tensor([[-0.0905,  0.1287,  0.4291],\n",
      "        [ 0.0928, -0.1460,  0.2171],\n",
      "        [ 0.6476,  0.0530, -0.7509],\n",
      "        [ 0.5641, -0.5322,  0.0632],\n",
      "        [-0.0391,  0.1274, -0.0191],\n",
      "        [-0.0640,  0.0823,  0.2050],\n",
      "        [ 0.2510, -0.3716,  0.2008],\n",
      "        [-0.0240,  0.0643, -0.0489],\n",
      "        [-0.4632, -0.2815,  0.4714],\n",
      "        [ 0.0763, -0.1585,  0.3918],\n",
      "        [ 0.0210, -0.1103,  0.2055],\n",
      "        [ 0.0457,  0.0559, -0.1953],\n",
      "        [ 0.1518, -0.2356,  0.0947],\n",
      "        [-0.0289, -0.0666,  0.1020],\n",
      "        [ 0.1079, -0.2211, -0.2495],\n",
      "        [-0.5353, -0.5369,  0.4685],\n",
      "        [ 0.0693, -0.0891,  0.0695],\n",
      "        [ 0.1573, -0.2145,  0.1035],\n",
      "        [-0.0404,  0.1289, -0.0427],\n",
      "        [ 0.0205, -0.0595,  0.0532],\n",
      "        [ 0.0103, -0.0725,  0.0057],\n",
      "        [ 0.2101, -0.3532,  0.3219],\n",
      "        [ 0.0156, -0.0799,  0.1136],\n",
      "        [-0.3131,  0.2701, -0.6546],\n",
      "        [ 0.4666,  0.6619, -0.4600],\n",
      "        [-0.0120,  0.2553, -0.0565],\n",
      "        [-0.0959,  0.2076,  0.0949],\n",
      "        [-0.0409,  0.2099, -0.1777],\n",
      "        [ 0.1702, -0.1791,  0.0038],\n",
      "        [ 0.5746,  0.4296, -0.0082],\n",
      "        [-0.1596,  0.3257,  0.0858],\n",
      "        [ 0.0267, -0.0492,  0.1974],\n",
      "        [-0.0481,  0.4123, -0.1922],\n",
      "        [ 0.0367, -0.0244, -0.0121],\n",
      "        [ 0.0241, -0.0364,  0.0114],\n",
      "        [ 0.7207,  0.4005,  0.2395],\n",
      "        [ 0.0115, -0.0873,  0.3330],\n",
      "        [ 0.1587, -0.1528,  0.1508],\n",
      "        [ 0.7775, -0.4111,  0.1884],\n",
      "        [ 0.0206, -0.0604,  0.0002],\n",
      "        [-0.0998,  0.2264, -0.0295],\n",
      "        [ 0.0647,  0.2977, -0.6025],\n",
      "        [ 0.1392,  0.3114, -0.5513],\n",
      "        [-0.1966, -0.0018, -0.2377],\n",
      "        [ 0.2057, -0.3332,  0.4549],\n",
      "        [ 0.2313, -0.1402, -0.1853],\n",
      "        [ 0.6528, -0.5761, -0.2502],\n",
      "        [ 0.0233, -0.0868,  0.1447],\n",
      "        [ 0.0774,  0.1061, -0.2756],\n",
      "        [ 0.0587,  0.0237, -0.1322],\n",
      "        [ 0.1503, -0.0654, -0.1246],\n",
      "        [ 0.2277, -0.1132, -0.1971],\n",
      "        [ 0.2665, -0.2412,  0.0293],\n",
      "        [ 0.5952,  0.3072,  0.1867],\n",
      "        [-0.0163,  0.0335, -0.0282],\n",
      "        [ 0.0464, -0.1060,  0.1663],\n",
      "        [-0.1451,  0.4862, -0.2463],\n",
      "        [ 0.0529, -0.1142,  0.0378],\n",
      "        [ 0.1060, -0.1251, -0.0043],\n",
      "        [-0.0590,  0.0888, -0.0333],\n",
      "        [ 0.5137, -0.4160, -0.4071],\n",
      "        [-0.5458, -0.3876,  0.2528],\n",
      "        [ 0.0318, -0.0754,  0.1607],\n",
      "        [-0.0521,  0.1619, -0.0107],\n",
      "        [-0.1054,  0.2688, -0.5313],\n",
      "        [-0.0594,  0.0816,  0.1438],\n",
      "        [ 0.2544, -0.3352,  0.2267],\n",
      "        [ 0.0269,  0.1789, -0.4265],\n",
      "        [-0.1613,  0.3625,  0.0276],\n",
      "        [-0.3653, -1.1094, -0.1182],\n",
      "        [-0.0920,  0.5123, -0.1708],\n",
      "        [-1.5534, -0.3326,  0.2217],\n",
      "        [-0.1776,  0.3989, -0.1235],\n",
      "        [ 0.0450, -0.1420,  0.0493],\n",
      "        [ 0.2610, -0.4388,  0.3705],\n",
      "        [-0.0082,  0.1682, -0.1612],\n",
      "        [-0.1607, -0.0230, -0.5541],\n",
      "        [-0.1190,  0.3710, -0.2825],\n",
      "        [ 0.5439,  0.4431, -0.5077],\n",
      "        [ 0.0288, -0.0889, -0.0129],\n",
      "        [ 0.0674, -0.1195,  0.0563],\n",
      "        [ 0.0104,  0.0872, -0.2601],\n",
      "        [ 0.0735, -0.1428,  0.0246],\n",
      "        [-0.0448,  0.1716, -0.2894],\n",
      "        [-0.1640,  0.1400, -0.0615],\n",
      "        [ 0.3754, -0.4911,  0.1762],\n",
      "        [ 0.6519,  0.2098, -0.3812],\n",
      "        [ 0.0014,  0.1070, -0.2137],\n",
      "        [ 0.5750,  0.6879, -0.3928],\n",
      "        [-0.0928,  0.0753,  0.2935],\n",
      "        [ 0.0174,  0.0738, -0.1627],\n",
      "        [ 0.1492, -0.1702,  0.1149],\n",
      "        [-0.0491,  0.2847, -0.2297],\n",
      "        [ 0.4154,  0.0629, -0.3792],\n",
      "        [ 0.0052,  0.0112, -0.0207],\n",
      "        [-0.4457, -0.1901, -0.3361],\n",
      "        [ 0.9217, -0.4195,  0.2042],\n",
      "        [ 0.0364,  0.0959, -0.2785],\n",
      "        [-1.2220, -0.0462, -0.0751],\n",
      "        [-0.0806,  0.3835, -0.3265]])\n",
      "Parameter containing:\n",
      "tensor([[-3.1472e-04, -1.2094e-02, -5.7832e-01,  1.4798e-02, -3.4448e-04,\n",
      "         -9.3879e-03,  2.7418e-05, -4.6735e-04, -1.4226e-02, -1.1781e-02,\n",
      "          3.4208e-02, -1.3689e-03, -4.6347e-03, -1.4163e-02,  4.4260e-02,\n",
      "          1.9575e-01, -6.2456e-03, -1.0581e-02, -9.2371e-03,  2.6621e-02,\n",
      "          3.8746e-02,  3.3355e-03, -1.4677e-02,  5.1669e-02,  1.3063e-01,\n",
      "         -8.1591e-03, -1.3480e-02, -1.3399e-02,  9.0779e-03,  3.8448e-01,\n",
      "         -5.7303e-03, -2.1908e-04,  1.7540e-02, -2.2375e-04,  5.4436e-04,\n",
      "          5.8082e-01, -9.0537e-03, -7.8440e-03, -9.9699e-02, -2.4417e-02,\n",
      "         -8.1620e-03,  1.0840e-02,  1.3594e-02,  6.2957e-02, -7.2824e-03,\n",
      "          1.5254e-03, -8.1969e-02,  1.4961e-02,  4.1268e-03,  1.3702e-03,\n",
      "          1.5008e-02, -1.0686e-02, -5.5080e-03,  3.1401e-01, -2.4544e-03,\n",
      "          1.2149e-02, -1.5696e-02,  1.4651e-02,  6.7333e-03, -6.2009e-03,\n",
      "         -2.7315e-01,  2.7888e-01, -8.0741e-03,  7.4901e-03, -2.9411e-03,\n",
      "         -5.2653e-03, -2.4659e-03,  3.3794e-03, -9.5827e-03,  6.1986e-01,\n",
      "          2.3553e-02, -4.5048e-01, -1.9388e-02,  8.1565e-03, -4.8339e-03,\n",
      "          2.1910e-02,  4.1395e-01,  4.8015e-03, -6.1120e-01,  2.5972e-02,\n",
      "         -3.7682e-04,  1.9872e-05,  2.2824e-02,  2.5032e-03, -1.3475e-02,\n",
      "         -1.3263e-03, -3.9202e-01,  1.9303e-02,  3.4224e-01, -2.2700e-02,\n",
      "          1.3858e-02, -2.9568e-03, -1.1732e-03, -3.9720e-02, -1.1354e-02,\n",
      "          9.2530e-02, -1.4680e+00,  7.5983e-03,  2.2821e-01, -1.5697e-02]])\n"
     ]
    }
   ],
   "source": [
    "print(model.fc1.weight)\n",
    "print(model.fc2.weight)"
   ]
  },
  {
   "cell_type": "code",
   "execution_count": 48,
   "metadata": {
    "scrolled": true
   },
   "outputs": [
    {
     "data": {
      "image/png": "[encoded data removed]",
      "text/plain": [
       "<matplotlib.figure.Figure at 0x7fed61001a58>"
      ]
     },
     "metadata": {},
     "output_type": "display_data"
    }
   ],
   "source": [
    "plt.plot(y)\n",
    "plt.show()"
   ]
  },
  {
   "cell_type": "code",
   "execution_count": 51,
   "metadata": {},
   "outputs": [
    {
     "name": "stdout",
     "output_type": "stream",
     "text": [
      "tensor(1.00000e-02 *\n",
      "       [-1.5782])\n",
      "tensor(1.00000e-02 *\n",
      "       -4.1250)\n",
      "tensor(1.00000e-02 *\n",
      "       [ 2.5468])\n"
     ]
    }
   ],
   "source": [
    "print(model(X[sample_num]))\n",
    "print(y[sample_num])\n",
    "print(model(X[sample_num])-y[sample_num])"
   ]
  },
  {
   "cell_type": "code",
   "execution_count": 55,
   "metadata": {},
   "outputs": [
    {
     "data": {
      "image/png": "[encoded data removed]",
      "text/plain": [
       "<matplotlib.figure.Figure at 0x7fed111f7dd8>"
      ]
     },
     "metadata": {},
     "output_type": "display_data"
    }
   ],
   "source": [
    "plt.plot(model(X).detach().numpy())\n",
    "plt.show()"
   ]
  },
  {
   "cell_type": "code",
   "execution_count": 53,
   "metadata": {},
   "outputs": [
    {
     "data": {
      "text/plain": [
       "tensor([[ 0.0553],\n",
       "        [ 0.2637],\n",
       "        [ 0.1885],\n",
       "        ...,\n",
       "        [-0.0082],\n",
       "        [ 0.0296],\n",
       "        [ 0.0030]])"
      ]
     },
     "execution_count": 53,
     "metadata": {},
     "output_type": "execute_result"
    }
   ],
   "source": [
    "model(X)"
   ]
  },
  {
   "cell_type": "code",
   "execution_count": null,
   "metadata": {
    "collapsed": true
   },
   "outputs": [],
   "source": []
  }
 ],
 "metadata": {
  "anaconda-cloud": {},
  "kernelspec": {
   "display_name": "Python 3",
   "language": "python",
   "name": "python3"
  },
  "language_info": {
   "codemirror_mode": {
    "name": "ipython",
    "version": 3
   },
   "file_extension": ".py",
   "mimetype": "text/x-python",
   "name": "python",
   "nbconvert_exporter": "python",
   "pygments_lexer": "ipython3",
   "version": "3.6.1"
  }
 },
 "nbformat": 4,
 "nbformat_minor": 1
}

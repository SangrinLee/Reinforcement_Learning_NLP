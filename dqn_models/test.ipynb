{
 "cells": [
  {
   "cell_type": "code",
   "execution_count": 1,
   "metadata": {
    "collapsed": true
   },
   "outputs": [],
   "source": [
    "import numpy as np\n",
    "import matplotlib.pyplot as plt\n",
    "import pickle\n",
    "\n",
    "import torch\n",
    "import torch.optim as optim\n",
    "import torch.nn as nn\n",
    "import torch.nn.functional as F"
   ]
  },
  {
   "cell_type": "code",
   "execution_count": 2,
   "metadata": {
    "collapsed": true
   },
   "outputs": [],
   "source": [
    "N_ep = 10 # Number of episodes"
   ]
  },
  {
   "cell_type": "code",
   "execution_count": 3,
   "metadata": {
    "collapsed": true
   },
   "outputs": [],
   "source": [
    "# Load data\n",
    "f = open('replay_memory_0','rb')\n",
    "dataset = pickle.load(f)\n",
    "\n",
    "# Data size\n",
    "num_data = len(dataset)\n",
    "# Features\n",
    "X = torch.cat([x[0] for x in dataset]).float()\n",
    "# Labels\n",
    "y = torch.from_numpy(np.array([x[1] for x in dataset])).float()"
   ]
  },
  {
   "cell_type": "code",
   "execution_count": 4,
   "metadata": {
    "collapsed": true
   },
   "outputs": [],
   "source": [
    "# Network\n",
    "class net(nn.Module):\n",
    "    def __init__(self, input_dim=3, output_dim=1, hidden_size=10, hidden_dropout_prob=0):\n",
    "        super(net, self).__init__()\n",
    "        self.fc1 = nn.Linear(input_dim, hidden_size) # input layer -> hidden layer\n",
    "        self.fc2 = nn.Linear(hidden_size, output_dim) # hidden layer -> output layer\n",
    "        \n",
    "    def forward(self, x):\n",
    "        x = F.leaky_relu(self.fc1(x))\n",
    "        x = self.fc2(x)\n",
    "        return x\n",
    "    \n",
    "model = net()"
   ]
  },
  {
   "cell_type": "code",
   "execution_count": 5,
   "metadata": {
    "collapsed": true
   },
   "outputs": [],
   "source": [
    "#print(model.fc1.weight)\n",
    "#print(model.fc2.weight)\n",
    "sample_num=100"
   ]
  },
  {
   "cell_type": "code",
   "execution_count": 6,
   "metadata": {},
   "outputs": [
    {
     "name": "stdout",
     "output_type": "stream",
     "text": [
      "tensor([-0.3903])\n",
      "tensor(1.00000e-02 *\n",
      "       -2.2116)\n",
      "tensor([-0.3682])\n"
     ]
    }
   ],
   "source": [
    "print(model(X[sample_num]))\n",
    "print(y[sample_num])\n",
    "print(model(X[sample_num])-y[sample_num])"
   ]
  },
  {
   "cell_type": "code",
   "execution_count": 7,
   "metadata": {
    "collapsed": true
   },
   "outputs": [],
   "source": [
    "\n",
    "optimizer = optim.Adam(model.parameters())\n",
    "\n",
    "training_loss = []\n",
    "# Training\n",
    "for i_ep in range(N_ep):\n",
    "    for i_data in range(num_data):\n",
    "        features = X[i_data]\n",
    "        y_data = y[i_data]\n",
    "        #features = X\n",
    "        #y_data = y.view(-1,1)\n",
    "        \n",
    "        y_pred = model(features)\n",
    "        \n",
    "        #loss = F.smooth_l1_loss(y_pred,y_data)\n",
    "        loss = torch.mean((y_pred - y_data)**2)\n",
    "        training_loss.append(loss)\n",
    "        \n",
    "        # Optimize the model\n",
    "        optimizer.zero_grad()\n",
    "        loss.backward()\n",
    "        optimizer.step()"
   ]
  },
  {
   "cell_type": "code",
   "execution_count": 12,
   "metadata": {},
   "outputs": [
    {
     "data": {
      "image/png": "[encoded data removed]",
      "text/plain": [
       "<matplotlib.figure.Figure at 0x7ff82cbdb0b8>"
      ]
     },
     "metadata": {},
     "output_type": "display_data"
    }
   ],
   "source": [
    "plt.plot(training_loss)\n",
    "plt.show()\n",
    "plt.savefig('train_loss_curve.png')"
   ]
  },
  {
   "cell_type": "code",
   "execution_count": 9,
   "metadata": {},
   "outputs": [
    {
     "name": "stdout",
     "output_type": "stream",
     "text": [
      "Parameter containing:\n",
      "tensor([[-0.3729, -0.6853,  0.3077],\n",
      "        [-0.7248,  0.0964, -0.0045],\n",
      "        [ 0.4013, -0.1928,  0.5379],\n",
      "        [ 0.0370, -0.2851, -0.1664],\n",
      "        [-0.1526,  0.0521, -0.1621],\n",
      "        [ 0.0994,  0.0189, -0.5786],\n",
      "        [-0.0006, -0.0444, -0.0556],\n",
      "        [ 0.3894,  0.2539,  0.3967],\n",
      "        [-0.4741,  0.4287, -0.4349],\n",
      "        [ 0.1073, -0.0025, -0.0901]])\n",
      "Parameter containing:\n",
      "tensor([[-0.4101, -0.1095,  0.1673, -0.2642,  0.2028, -0.0800,  0.1598,\n",
      "         -0.1719, -0.1783,  0.0276]])\n"
     ]
    }
   ],
   "source": [
    "print(model.fc1.weight)\n",
    "print(model.fc2.weight)"
   ]
  },
  {
   "cell_type": "code",
   "execution_count": 10,
   "metadata": {},
   "outputs": [
    {
     "data": {
      "image/png": "[encoded data removed]",
      "text/plain": [
       "<matplotlib.figure.Figure at 0x7ff82cc2b9e8>"
      ]
     },
     "metadata": {},
     "output_type": "display_data"
    }
   ],
   "source": [
    "plt.plot(y)\n",
    "plt.show()"
   ]
  },
  {
   "cell_type": "code",
   "execution_count": 11,
   "metadata": {},
   "outputs": [
    {
     "name": "stdout",
     "output_type": "stream",
     "text": [
      "tensor(1.00000e-03 *\n",
      "       [-8.3781])\n",
      "tensor(1.00000e-02 *\n",
      "       -2.2116)\n",
      "tensor(1.00000e-02 *\n",
      "       [ 1.3738])\n"
     ]
    }
   ],
   "source": [
    "print(model(X[sample_num]))\n",
    "print(y[sample_num])\n",
    "print(model(X[sample_num])-y[sample_num])"
   ]
  },
  {
   "cell_type": "code",
   "execution_count": null,
   "metadata": {
    "collapsed": true
   },
   "outputs": [],
   "source": []
  },
  {
   "cell_type": "code",
   "execution_count": null,
   "metadata": {
    "collapsed": true
   },
   "outputs": [],
   "source": []
  }
 ],
 "metadata": {
  "anaconda-cloud": {},
  "kernelspec": {
   "display_name": "Python 3",
   "language": "python",
   "name": "python3"
  },
  "language_info": {
   "codemirror_mode": {
    "name": "ipython",
    "version": 3
   },
   "file_extension": ".py",
   "mimetype": "text/x-python",
   "name": "python",
   "nbconvert_exporter": "python",
   "pygments_lexer": "ipython3",
   "version": "3.6.1"
  }
 },
 "nbformat": 4,
 "nbformat_minor": 1
}
